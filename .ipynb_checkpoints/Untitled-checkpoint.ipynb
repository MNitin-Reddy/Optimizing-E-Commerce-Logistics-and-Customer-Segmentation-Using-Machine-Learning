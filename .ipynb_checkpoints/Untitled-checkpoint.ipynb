{
 "cells": [
  {
   "cell_type": "markdown",
   "id": "fbd0e5ee",
   "metadata": {},
   "source": [
    "# Improving Delivery Efficiency and Customer Segmentation in E-Commerce\n",
    "\n",
    "#### Domain: E-commerce\n",
    "\n",
    "## **Problem Statement**  \n",
    "In the fast-paced e-commerce industry, timely delivery and personalized customer engagement are critical for maintaining a competitive edge. However, delays and cancellations in order deliveries are common and occur due to inconsistent logistics operations, lack of proactive planning, and unforeseen supply chain disruptions. These inefficiencies are often accepted as part of operations but have a significant impact on customer satisfaction, loyalty, and business reputation. These delays not only frustrate customers but also lead to increased returns, cancellations, and negative brand perception.  \n",
    "\n",
    "Additionally, a lack of proper customer segmentation results in generic marketing strategies and poorly targeted loyalty programs. Without understanding customer behavior, businesses fail to differentiate between high-value customers and those driven by discounts, leading to missed opportunities to enhance customer retention and profitability. These issues collectively impact customer satisfaction, operational efficiency, and long-term growth.\n",
    "\n",
    "Similarly, most e-commerce platforms rely on broad, one-size-fits-all marketing strategies, missing opportunities to cater to diverse customer preferences. Customers exhibit varied behaviors, such as high-frequency purchasing, discount sensitivity, or region-specific needs, which often go unaddressed. This lack of tailored approaches leaves room for improvement in both operational efficiency and customer engagement.\n",
    "\n",
    "### **How AI Helps**  \n",
    "AI presents a transformative opportunity to address these challenges by leveraging advanced data analytics and machine learning techniques. Predictive models can analyze historical order and shipping data to identify patterns that lead to delivery delays or cancellations. By proactively flagging high-risk orders, businesses can optimize their logistics, reallocate resources, and notify customers in advance, significantly improving delivery reliability and customer satisfaction.  \n",
    "\n",
    "Similarly, AI-driven clustering techniques can segment customers based on their purchasing behavior, order frequency, and profitability. This allows businesses to uncover hidden patterns, design personalized marketing campaigns, and prioritize high-value customers. By turning data into actionable insights, AI enables e-commerce platforms to move beyond generic strategies, creating tailored solutions that enhance customer loyalty and operational efficiency.  \n",
    "\n",
    "## **Objective**  \n",
    "1. **Classification Task:** Predict delivery delays and cancellations using machine learning to proactively address potential disruptions, improve logistics, and enhance delivery reliability, ultimately reducing customer dissatisfaction and operational costs.  \n",
    "2. **Clustering Task:** Segment customers based on spending habits, order frequency, and profitability to enable personalized marketing, loyalty programs, and region-specific strategies, improving customer retention and resource optimization.  "
   ]
  },
  {
   "cell_type": "code",
   "execution_count": 1,
   "id": "bdc6dd8b",
   "metadata": {},
   "outputs": [],
   "source": [
    "# importing required libraries\n",
    "import pandas as pd\n",
    "import numpy as np\n",
    "import matplotlib.pyplot as plt\n",
    "import seaborn as sns"
   ]
  },
  {
   "cell_type": "markdown",
   "id": "7facfdad",
   "metadata": {},
   "source": [
    "## Data Overview"
   ]
  },
  {
   "cell_type": "code",
   "execution_count": 2,
   "id": "3d213edb",
   "metadata": {},
   "outputs": [
    {
     "data": {
      "text/html": [
       "<div>\n",
       "<style scoped>\n",
       "    .dataframe tbody tr th:only-of-type {\n",
       "        vertical-align: middle;\n",
       "    }\n",
       "\n",
       "    .dataframe tbody tr th {\n",
       "        vertical-align: top;\n",
       "    }\n",
       "\n",
       "    .dataframe thead th {\n",
       "        text-align: right;\n",
       "    }\n",
       "</style>\n",
       "<table border=\"1\" class=\"dataframe\">\n",
       "  <thead>\n",
       "    <tr style=\"text-align: right;\">\n",
       "      <th></th>\n",
       "      <th>customer_id</th>\n",
       "      <th>customer_first_name</th>\n",
       "      <th>customer_last_name</th>\n",
       "      <th>category_name</th>\n",
       "      <th>product_name</th>\n",
       "      <th>customer_segment</th>\n",
       "      <th>customer_city</th>\n",
       "      <th>customer_state</th>\n",
       "      <th>customer_country</th>\n",
       "      <th>customer_region</th>\n",
       "      <th>...</th>\n",
       "      <th>order_date</th>\n",
       "      <th>order_id</th>\n",
       "      <th>ship_date</th>\n",
       "      <th>shipping_type</th>\n",
       "      <th>days_for_shipment_scheduled</th>\n",
       "      <th>days_for_shipment_real</th>\n",
       "      <th>order_item_discount</th>\n",
       "      <th>sales_per_order</th>\n",
       "      <th>order_quantity</th>\n",
       "      <th>profit_per_order</th>\n",
       "    </tr>\n",
       "  </thead>\n",
       "  <tbody>\n",
       "    <tr>\n",
       "      <th>0</th>\n",
       "      <td>C_ID_45866</td>\n",
       "      <td>Mary</td>\n",
       "      <td>Fuller</td>\n",
       "      <td>Office Supplies</td>\n",
       "      <td>Xerox 1913</td>\n",
       "      <td>Corporate</td>\n",
       "      <td>New Rochelle</td>\n",
       "      <td>New York</td>\n",
       "      <td>United States</td>\n",
       "      <td>East</td>\n",
       "      <td>...</td>\n",
       "      <td>11/5/2022</td>\n",
       "      <td>O_ID_3001072</td>\n",
       "      <td>11/7/2022</td>\n",
       "      <td>Second Class</td>\n",
       "      <td>2</td>\n",
       "      <td>2</td>\n",
       "      <td>35.0</td>\n",
       "      <td>500.0</td>\n",
       "      <td>5</td>\n",
       "      <td>223.199997</td>\n",
       "    </tr>\n",
       "    <tr>\n",
       "      <th>1</th>\n",
       "      <td>C_ID_44932</td>\n",
       "      <td>Alan</td>\n",
       "      <td>Edelman</td>\n",
       "      <td>Office Supplies</td>\n",
       "      <td>#6 3/4 Gummed Flap White Envelopes</td>\n",
       "      <td>Corporate</td>\n",
       "      <td>Houston</td>\n",
       "      <td>Texas</td>\n",
       "      <td>United States</td>\n",
       "      <td>Central</td>\n",
       "      <td>...</td>\n",
       "      <td>20-06-2022</td>\n",
       "      <td>O_ID_3009170</td>\n",
       "      <td>23-06-2022</td>\n",
       "      <td>Second Class</td>\n",
       "      <td>2</td>\n",
       "      <td>3</td>\n",
       "      <td>85.0</td>\n",
       "      <td>500.0</td>\n",
       "      <td>5</td>\n",
       "      <td>199.199997</td>\n",
       "    </tr>\n",
       "    <tr>\n",
       "      <th>2</th>\n",
       "      <td>C_ID_70880</td>\n",
       "      <td>Mary</td>\n",
       "      <td>Gayman</td>\n",
       "      <td>Office Supplies</td>\n",
       "      <td>Belkin 8 Outlet Surge Protector</td>\n",
       "      <td>Consumer</td>\n",
       "      <td>Louisville</td>\n",
       "      <td>Kentucky</td>\n",
       "      <td>United States</td>\n",
       "      <td>South</td>\n",
       "      <td>...</td>\n",
       "      <td>25-06-2022</td>\n",
       "      <td>O_ID_3047567</td>\n",
       "      <td>30-06-2022</td>\n",
       "      <td>Standard Class</td>\n",
       "      <td>4</td>\n",
       "      <td>5</td>\n",
       "      <td>75.0</td>\n",
       "      <td>44.0</td>\n",
       "      <td>5</td>\n",
       "      <td>195.500000</td>\n",
       "    </tr>\n",
       "    <tr>\n",
       "      <th>3</th>\n",
       "      <td>C_ID_33157</td>\n",
       "      <td>Raymond</td>\n",
       "      <td>Eason</td>\n",
       "      <td>Office Supplies</td>\n",
       "      <td>GBC VeloBinder Manual Binding System</td>\n",
       "      <td>Corporate</td>\n",
       "      <td>Chicago</td>\n",
       "      <td>Illinois</td>\n",
       "      <td>United States</td>\n",
       "      <td>Central</td>\n",
       "      <td>...</td>\n",
       "      <td>10/6/2022</td>\n",
       "      <td>O_ID_3060575</td>\n",
       "      <td>10/10/2022</td>\n",
       "      <td>Second Class</td>\n",
       "      <td>2</td>\n",
       "      <td>4</td>\n",
       "      <td>60.0</td>\n",
       "      <td>254.0</td>\n",
       "      <td>1</td>\n",
       "      <td>220.000000</td>\n",
       "    </tr>\n",
       "    <tr>\n",
       "      <th>4</th>\n",
       "      <td>C_ID_58303</td>\n",
       "      <td>Mary</td>\n",
       "      <td>Gonzalez</td>\n",
       "      <td>Furniture</td>\n",
       "      <td>Eldon Pizzaz Desk Accessories</td>\n",
       "      <td>Home Office</td>\n",
       "      <td>Philadelphia</td>\n",
       "      <td>Pennsylvania</td>\n",
       "      <td>United States</td>\n",
       "      <td>East</td>\n",
       "      <td>...</td>\n",
       "      <td>2/5/2022</td>\n",
       "      <td>O_ID_3064311</td>\n",
       "      <td>8/1/2022</td>\n",
       "      <td>First Class</td>\n",
       "      <td>1</td>\n",
       "      <td>2</td>\n",
       "      <td>125.0</td>\n",
       "      <td>500.0</td>\n",
       "      <td>1</td>\n",
       "      <td>97.500000</td>\n",
       "    </tr>\n",
       "  </tbody>\n",
       "</table>\n",
       "<p>5 rows × 21 columns</p>\n",
       "</div>"
      ],
      "text/plain": [
       "  customer_id customer_first_name customer_last_name    category_name  \\\n",
       "0  C_ID_45866                Mary             Fuller  Office Supplies   \n",
       "1  C_ID_44932                Alan            Edelman  Office Supplies   \n",
       "2  C_ID_70880                Mary             Gayman  Office Supplies   \n",
       "3  C_ID_33157             Raymond              Eason  Office Supplies   \n",
       "4  C_ID_58303                Mary           Gonzalez        Furniture   \n",
       "\n",
       "                           product_name customer_segment customer_city  \\\n",
       "0                            Xerox 1913        Corporate  New Rochelle   \n",
       "1    #6 3/4 Gummed Flap White Envelopes        Corporate       Houston   \n",
       "2       Belkin 8 Outlet Surge Protector         Consumer    Louisville   \n",
       "3  GBC VeloBinder Manual Binding System        Corporate       Chicago   \n",
       "4         Eldon Pizzaz Desk Accessories      Home Office  Philadelphia   \n",
       "\n",
       "  customer_state customer_country customer_region  ...  order_date  \\\n",
       "0       New York    United States            East  ...   11/5/2022   \n",
       "1          Texas    United States         Central  ...  20-06-2022   \n",
       "2       Kentucky    United States           South  ...  25-06-2022   \n",
       "3       Illinois    United States         Central  ...   10/6/2022   \n",
       "4   Pennsylvania    United States            East  ...    2/5/2022   \n",
       "\n",
       "       order_id   ship_date   shipping_type days_for_shipment_scheduled  \\\n",
       "0  O_ID_3001072   11/7/2022    Second Class                           2   \n",
       "1  O_ID_3009170  23-06-2022    Second Class                           2   \n",
       "2  O_ID_3047567  30-06-2022  Standard Class                           4   \n",
       "3  O_ID_3060575  10/10/2022    Second Class                           2   \n",
       "4  O_ID_3064311    8/1/2022     First Class                           1   \n",
       "\n",
       "   days_for_shipment_real  order_item_discount  sales_per_order  \\\n",
       "0                       2                 35.0            500.0   \n",
       "1                       3                 85.0            500.0   \n",
       "2                       5                 75.0             44.0   \n",
       "3                       4                 60.0            254.0   \n",
       "4                       2                125.0            500.0   \n",
       "\n",
       "   order_quantity  profit_per_order  \n",
       "0               5        223.199997  \n",
       "1               5        199.199997  \n",
       "2               5        195.500000  \n",
       "3               1        220.000000  \n",
       "4               1         97.500000  \n",
       "\n",
       "[5 rows x 21 columns]"
      ]
     },
     "execution_count": 2,
     "metadata": {},
     "output_type": "execute_result"
    }
   ],
   "source": [
    "# importing the data\n",
    "data = pd.read_csv(r\"Ecommerce_data.csv\")\n",
    "data.head()"
   ]
  },
  {
   "cell_type": "markdown",
   "id": "064c9454",
   "metadata": {},
   "source": [
    "Here's a brief description of each column in the dataset:\n",
    "\n",
    "1. **customer_id**: Unique identifier for each customer, used for tracking individual purchases and behaviors.\n",
    "2. **customer_first_name**: First name of the customer for personal identification.\n",
    "3. **customer_last_name**: Last name of the customer for personal identification.\n",
    "4. **category_name**: Category of the product purchased, such as \"Office Supplies\" or \"Furniture.\"\n",
    "5. **product_name**: The name of the specific product ordered, e.g., \"Xerox 1913\" or \"Belkin 8 Outlet Surge Protector.\"\n",
    "6. **customer_segment**: Classification of customers into segments like \"Corporate,\" \"Home Office,\" or \"Consumer\" based on their business relationship or purchasing behavior.\n",
    "7. **customer_city**: The city where the customer resides.\n",
    "8. **customer_state**: The state or region where the customer resides.\n",
    "9. **customer_country**: The country where the customer is located.\n",
    "10. **customer_region**: The broader geographical region (e.g., East, West, South, North) where the customer is based.\n",
    "11. **delivery_status**: The delivery status of the order, which could be \"Shipping on time,\" \"Late delivery,\" or \"Shipping canceled.\"\n",
    "12. **order_date**: The date when the customer placed the order.\n",
    "13. **order_id**: Unique identifier for each order, helping to link various order details together.\n",
    "14. **ship_date**: The date when the order was actually shipped out.\n",
    "15. **shipping_type**: The shipping method used, such as \"Standard Class\" or \"Second Class.\"\n",
    "16. **days_for_shipment_scheduled**: The number of days the order was scheduled to take for delivery.\n",
    "17. **days_for_shipment_real**: The actual number of days it took for the order to be delivered.\n",
    "18. **order_item_discount**: The discount applied to the items in the order.\n",
    "19. **sales_per_order**: The total sales value for the order.\n",
    "20. **order_quantity**: The quantity of items ordered in the specific order.\n",
    "21. **profit_per_order**: The profit earned on the order after all expenses.\n",
    "\n",
    "These columns capture a blend of customer demographics, product details, and logistical aspects, making the dataset useful for analyzing operational performance and customer behaviors in e-commerce."
   ]
  },
  {
   "cell_type": "code",
   "execution_count": 17,
   "id": "baf6c9f0",
   "metadata": {},
   "outputs": [
    {
     "name": "stdout",
     "output_type": "stream",
     "text": [
      "No of rows and columns in the data:  (113270, 21)\n"
     ]
    }
   ],
   "source": [
    "print(\"No of rows and columns in the data: \", data.shape)"
   ]
  },
  {
   "cell_type": "markdown",
   "id": "c9619268",
   "metadata": {},
   "source": [
    "* The dataset mirrors the type of data used by e-commerce companies to track key customer behaviors, order details, and logistics, making it highly relevant for tackling real-world operational challenges. It offers insights into issues such as **delivery delays** and **cancellations**, as well as **customer segmentation** for personalized marketing strategies. With features like shipping details, order information, and customer demographics, the dataset can be used to predict delivery outcomes (classification) and segment customers based on purchasing patterns and profitability (clustering). \n",
    "\n",
    "\n",
    "* The size and complexity of the dataset further enhance its value. It includes a variety of features such as numerical data (e.g., sales, profit), categorical data (e.g., customer segments, delivery status), and time-related attributes (e.g., order and shipping dates). This diversity makes the dataset suitable for both classification and clustering tasks, offering a comprehensive view of e-commerce operations.\n",
    "\n",
    "\n",
    "\n",
    "* By analyzing this data, businesses can address critical challenges that directly impact **customer satisfaction**, **loyalty**, and **operational efficiency**. It enables companies to enhance **logistics operations**, reduce delays, and offer better customer service. Additionally, it aids in **targeting the right customer segments** with tailored marketing strategies, ultimately improving **customer retention** and boosting **revenue**. This makes the dataset a valuable resource for driving improvements in e-commerce business performance and decision-making."
   ]
  },
  {
   "cell_type": "markdown",
   "id": "a3ace4fe",
   "metadata": {},
   "source": [
    "**Let's have deeper look into the data**\n",
    "\n",
    "We'll look into the data understand its size, the null values, view the numerical and categorical columns check if there are any inconsistensis, check for duplicated records, chcek if there are any outliers present in numerical columns "
   ]
  },
  {
   "cell_type": "markdown",
   "id": "69f381eb",
   "metadata": {},
   "source": [
    "### Data Exploration\n",
    "\n",
    "In this section, we will perform a detailed exploration of the dataset to understand its structure and quality. We will examine the following aspects:\n",
    "\n",
    "- **Size of the Data**: Check the dimensions of the dataset to understand its scale.\n",
    "- **Missing Values**: Identify any null or missing values in the dataset.\n",
    "- **Numerical and Categorical Columns**: Categorize and analyze the numerical and categorical features to ensure correct data representation.\n",
    "- **Inconsistencies**: Look for any inconsistencies or errors within the data.\n",
    "- **Duplicated Records**: Detect and handle any duplicate entries in the dataset.\n",
    "- **Outliers**: Investigate if any numerical columns contain outliers that could impact model performance. \n",
    "\n",
    "This step will help ensure the dataset is clean and ready for further analysis and model development."
   ]
  },
  {
   "cell_type": "code",
   "execution_count": 3,
   "id": "b62879c8",
   "metadata": {
    "scrolled": true
   },
   "outputs": [
    {
     "name": "stdout",
     "output_type": "stream",
     "text": [
      "<class 'pandas.core.frame.DataFrame'>\n",
      "RangeIndex: 113270 entries, 0 to 113269\n",
      "Data columns (total 21 columns):\n",
      " #   Column                       Non-Null Count   Dtype  \n",
      "---  ------                       --------------   -----  \n",
      " 0   customer_id                  113270 non-null  object \n",
      " 1   customer_first_name          113270 non-null  object \n",
      " 2   customer_last_name           113270 non-null  object \n",
      " 3   category_name                113270 non-null  object \n",
      " 4   product_name                 113270 non-null  object \n",
      " 5   customer_segment             113270 non-null  object \n",
      " 6   customer_city                113270 non-null  object \n",
      " 7   customer_state               113270 non-null  object \n",
      " 8   customer_country             113270 non-null  object \n",
      " 9   customer_region              113270 non-null  object \n",
      " 10  delivery_status              113270 non-null  object \n",
      " 11  order_date                   113270 non-null  object \n",
      " 12  order_id                     113270 non-null  object \n",
      " 13  ship_date                    113270 non-null  object \n",
      " 14  shipping_type                113270 non-null  object \n",
      " 15  days_for_shipment_scheduled  113270 non-null  int64  \n",
      " 16  days_for_shipment_real       113270 non-null  int64  \n",
      " 17  order_item_discount          113270 non-null  float64\n",
      " 18  sales_per_order              113270 non-null  float64\n",
      " 19  order_quantity               113270 non-null  int64  \n",
      " 20  profit_per_order             113270 non-null  float64\n",
      "dtypes: float64(3), int64(3), object(15)\n",
      "memory usage: 18.1+ MB\n"
     ]
    }
   ],
   "source": [
    "data.info()"
   ]
  },
  {
   "cell_type": "markdown",
   "id": "286a8c1f",
   "metadata": {},
   "source": [
    "**Observation:**\n",
    "- The dataset contains 113,270 entries and 21 columns in total.\n",
    "- There are 3 **float64**, 3 **int64**, and 15 **object** columns."
   ]
  },
  {
   "cell_type": "markdown",
   "id": "ca0afeba",
   "metadata": {},
   "source": [
    "### Null values check"
   ]
  },
  {
   "cell_type": "code",
   "execution_count": 5,
   "id": "7e097757",
   "metadata": {
    "scrolled": true
   },
   "outputs": [
    {
     "data": {
      "text/plain": [
       "customer_id                    0\n",
       "customer_first_name            0\n",
       "customer_last_name             0\n",
       "category_name                  0\n",
       "product_name                   0\n",
       "customer_segment               0\n",
       "customer_city                  0\n",
       "customer_state                 0\n",
       "customer_country               0\n",
       "customer_region                0\n",
       "delivery_status                0\n",
       "order_date                     0\n",
       "order_id                       0\n",
       "ship_date                      0\n",
       "shipping_type                  0\n",
       "days_for_shipment_scheduled    0\n",
       "days_for_shipment_real         0\n",
       "order_item_discount            0\n",
       "sales_per_order                0\n",
       "order_quantity                 0\n",
       "profit_per_order               0\n",
       "dtype: int64"
      ]
     },
     "execution_count": 5,
     "metadata": {},
     "output_type": "execute_result"
    }
   ],
   "source": [
    "data.isnull().sum()"
   ]
  },
  {
   "cell_type": "markdown",
   "id": "dcf1e63a",
   "metadata": {},
   "source": [
    "- There are no null values present in the data, indicating it is complete for analysis."
   ]
  },
  {
   "cell_type": "markdown",
   "id": "87cd55e8",
   "metadata": {},
   "source": [
    "### Duplicated records "
   ]
  },
  {
   "cell_type": "code",
   "execution_count": 6,
   "id": "7238cfb9",
   "metadata": {},
   "outputs": [
    {
     "data": {
      "text/plain": [
       "0"
      ]
     },
     "execution_count": 6,
     "metadata": {},
     "output_type": "execute_result"
    }
   ],
   "source": [
    "data.duplicated().sum()"
   ]
  },
  {
   "cell_type": "markdown",
   "id": "1c9350cf",
   "metadata": {},
   "source": [
    "- There are no duplicated records"
   ]
  },
  {
   "cell_type": "markdown",
   "id": "613cff12",
   "metadata": {},
   "source": [
    "### Looking at the Categorical columns"
   ]
  },
  {
   "cell_type": "code",
   "execution_count": 13,
   "id": "bce42158",
   "metadata": {},
   "outputs": [
    {
     "data": {
      "text/html": [
       "<div>\n",
       "<style scoped>\n",
       "    .dataframe tbody tr th:only-of-type {\n",
       "        vertical-align: middle;\n",
       "    }\n",
       "\n",
       "    .dataframe tbody tr th {\n",
       "        vertical-align: top;\n",
       "    }\n",
       "\n",
       "    .dataframe thead th {\n",
       "        text-align: right;\n",
       "    }\n",
       "</style>\n",
       "<table border=\"1\" class=\"dataframe\">\n",
       "  <thead>\n",
       "    <tr style=\"text-align: right;\">\n",
       "      <th></th>\n",
       "      <th>customer_id</th>\n",
       "      <th>customer_first_name</th>\n",
       "      <th>customer_last_name</th>\n",
       "      <th>category_name</th>\n",
       "      <th>product_name</th>\n",
       "      <th>customer_segment</th>\n",
       "      <th>customer_city</th>\n",
       "      <th>customer_state</th>\n",
       "      <th>customer_country</th>\n",
       "      <th>customer_region</th>\n",
       "      <th>delivery_status</th>\n",
       "      <th>order_date</th>\n",
       "      <th>order_id</th>\n",
       "      <th>ship_date</th>\n",
       "      <th>shipping_type</th>\n",
       "    </tr>\n",
       "  </thead>\n",
       "  <tbody>\n",
       "    <tr>\n",
       "      <th>0</th>\n",
       "      <td>C_ID_45866</td>\n",
       "      <td>Mary</td>\n",
       "      <td>Fuller</td>\n",
       "      <td>Office Supplies</td>\n",
       "      <td>Xerox 1913</td>\n",
       "      <td>Corporate</td>\n",
       "      <td>New Rochelle</td>\n",
       "      <td>New York</td>\n",
       "      <td>United States</td>\n",
       "      <td>East</td>\n",
       "      <td>Shipping on time</td>\n",
       "      <td>11/5/2022</td>\n",
       "      <td>O_ID_3001072</td>\n",
       "      <td>11/7/2022</td>\n",
       "      <td>Second Class</td>\n",
       "    </tr>\n",
       "    <tr>\n",
       "      <th>1</th>\n",
       "      <td>C_ID_44932</td>\n",
       "      <td>Alan</td>\n",
       "      <td>Edelman</td>\n",
       "      <td>Office Supplies</td>\n",
       "      <td>#6 3/4 Gummed Flap White Envelopes</td>\n",
       "      <td>Corporate</td>\n",
       "      <td>Houston</td>\n",
       "      <td>Texas</td>\n",
       "      <td>United States</td>\n",
       "      <td>Central</td>\n",
       "      <td>Shipping canceled</td>\n",
       "      <td>20-06-2022</td>\n",
       "      <td>O_ID_3009170</td>\n",
       "      <td>23-06-2022</td>\n",
       "      <td>Second Class</td>\n",
       "    </tr>\n",
       "  </tbody>\n",
       "</table>\n",
       "</div>"
      ],
      "text/plain": [
       "  customer_id customer_first_name customer_last_name    category_name  \\\n",
       "0  C_ID_45866                Mary             Fuller  Office Supplies   \n",
       "1  C_ID_44932                Alan            Edelman  Office Supplies   \n",
       "\n",
       "                         product_name customer_segment customer_city  \\\n",
       "0                          Xerox 1913        Corporate  New Rochelle   \n",
       "1  #6 3/4 Gummed Flap White Envelopes        Corporate       Houston   \n",
       "\n",
       "  customer_state customer_country customer_region    delivery_status  \\\n",
       "0       New York    United States            East   Shipping on time   \n",
       "1          Texas    United States         Central  Shipping canceled   \n",
       "\n",
       "   order_date      order_id   ship_date shipping_type  \n",
       "0   11/5/2022  O_ID_3001072   11/7/2022  Second Class  \n",
       "1  20-06-2022  O_ID_3009170  23-06-2022  Second Class  "
      ]
     },
     "execution_count": 13,
     "metadata": {},
     "output_type": "execute_result"
    }
   ],
   "source": [
    "categorical_cols = list(data.select_dtypes(include = 'object').columns)\n",
    "data[categorical_cols].head(2)"
   ]
  },
  {
   "cell_type": "code",
   "execution_count": 21,
   "id": "866f298f",
   "metadata": {
    "scrolled": true
   },
   "outputs": [
    {
     "name": "stdout",
     "output_type": "stream",
     "text": [
      "********** customer_id **********\n",
      "Number of Unique values: 42047\n",
      "\n",
      "********** customer_first_name **********\n",
      "Number of Unique values: 757\n",
      "\n",
      "********** customer_last_name **********\n",
      "Number of Unique values: 586\n",
      "\n",
      "********** category_name **********\n",
      "{'Technology', 'Furniture', 'Office Supplies'}\n",
      "\n",
      "********** product_name **********\n",
      "Number of Unique values: 1849\n",
      "\n",
      "********** customer_segment **********\n",
      "{'Consumer', 'Corporate', 'Home Office'}\n",
      "\n",
      "********** customer_city **********\n",
      "Number of Unique values: 531\n",
      "\n",
      "********** customer_state **********\n",
      "{'South Dakota', 'Illinois', 'Florida', 'Connecticut', 'Nebraska', 'South Carolina', 'Pennsylvania', 'Missouri', 'New York', 'Utah', 'New Hampshire', 'Arkansas', 'Nevada', 'Ohio', 'Indiana', 'New Jersey', 'Maine', 'District of Columbia', 'Washington', 'Mississippi', 'Minnesota', 'Idaho', 'Kentucky', 'North Dakota', 'Wyoming', 'Kansas', 'Virginia', 'West Virginia', 'Texas', 'Rhode Island', 'Alabama', 'North Carolina', 'Louisiana', 'Oklahoma', 'Iowa', 'Massachusetts', 'Colorado', 'Tennessee', 'California', 'Delaware', 'Wisconsin', 'Vermont', 'Oregon', 'New Mexico', 'Michigan', 'Montana', 'Maryland', 'Arizona', 'Georgia'}\n",
      "\n",
      "********** customer_country **********\n",
      "{'United States'}\n",
      "\n",
      "********** customer_region **********\n",
      "{'South', 'Central', 'West', 'East'}\n",
      "\n",
      "********** delivery_status **********\n",
      "{'Shipping on time', 'Shipping canceled', 'Late delivery', 'Advance shipping'}\n",
      "\n",
      "********** order_date **********\n",
      "Number of Unique values: 727\n",
      "\n",
      "********** order_id **********\n",
      "Number of Unique values: 113270\n",
      "\n",
      "********** ship_date **********\n",
      "Number of Unique values: 732\n",
      "\n",
      "********** shipping_type **********\n",
      "{'Same Day', 'First Class', 'Standard Class', 'Second Class'}\n",
      "\n"
     ]
    }
   ],
   "source": [
    "for i in categorical_cols:\n",
    "    print('*'*10 + ' ' + i + ' ' + '*'*10)\n",
    "    values = set(data[i])\n",
    "    if len(values) > 50:\n",
    "        print('Number of Unique values:' , len(values))\n",
    "    else:\n",
    "        print(values)\n",
    "    print()"
   ]
  },
  {
   "cell_type": "markdown",
   "id": "7cb0e277",
   "metadata": {},
   "source": [
    "#### Observations:\n",
    "\n",
    "- **`customer_id`** and **`order_id`**: Unique identifiers with no significance for predicting delivery delays or customer segmentation.\n",
    "\n",
    "- **`customer_first_name`** and **`customer_last_name`**: Not relevant for analysis, as names don’t impact delivery or segmentation.\n",
    "\n",
    "- **`category_name`**: Three product categories (**Technology**, **Furniture**, **Office Supplies**) that can influence delivery patterns and customer segmentation.\n",
    "\n",
    "- **`product_name`**: With 1,849 unique products, this helps in understanding customer preferences and grouping.\n",
    "\n",
    "- **`customer_segment`**: Segments like **Consumer**, **Corporate**, and **Home Office** are important for clustering and analyzing delivery behavior.\n",
    "\n",
    "- **`customer_city`** and **`customer_state`**: Geographical data impacting delivery logistics and potential delays.\n",
    "- **`customer_country`**: Only **United States**, not adding variability.\n",
    "- **`customer_region`**: Four regions (**South**, **Central**, **West**, **East**) are useful for understanding regional delivery performance.\n",
    "- **`delivery_status`**: Key for classification (**target feature**), indicating the delivery outcome (on time, canceled, late).\n",
    "- **`order_date`** and **`ship_date`**: Important for analyzing timing patterns in deliveries.\n",
    "- **`shipping_type`**: Influences delivery times and delays, relevant for analysis."
   ]
  },
  {
   "cell_type": "code",
   "execution_count": 20,
   "id": "d440117e",
   "metadata": {},
   "outputs": [
    {
     "data": {
      "text/plain": [
       "['days_for_shipment_scheduled',\n",
       " 'days_for_shipment_real',\n",
       " 'order_item_discount',\n",
       " 'sales_per_order',\n",
       " 'order_quantity',\n",
       " 'profit_per_order']"
      ]
     },
     "execution_count": 20,
     "metadata": {},
     "output_type": "execute_result"
    }
   ],
   "source": [
    "numerical_cols = list(data.select_dtypes(exclude='object').columns)\n",
    "numerical_cols"
   ]
  },
  {
   "cell_type": "code",
   "execution_count": 24,
   "id": "78c4db6f",
   "metadata": {},
   "outputs": [
    {
     "data": {
      "text/html": [
       "<div>\n",
       "<style scoped>\n",
       "    .dataframe tbody tr th:only-of-type {\n",
       "        vertical-align: middle;\n",
       "    }\n",
       "\n",
       "    .dataframe tbody tr th {\n",
       "        vertical-align: top;\n",
       "    }\n",
       "\n",
       "    .dataframe thead th {\n",
       "        text-align: right;\n",
       "    }\n",
       "</style>\n",
       "<table border=\"1\" class=\"dataframe\">\n",
       "  <thead>\n",
       "    <tr style=\"text-align: right;\">\n",
       "      <th></th>\n",
       "      <th>days_for_shipment_scheduled</th>\n",
       "      <th>days_for_shipment_real</th>\n",
       "      <th>order_item_discount</th>\n",
       "      <th>sales_per_order</th>\n",
       "      <th>order_quantity</th>\n",
       "      <th>profit_per_order</th>\n",
       "    </tr>\n",
       "  </thead>\n",
       "  <tbody>\n",
       "    <tr>\n",
       "      <th>count</th>\n",
       "      <td>113270.000000</td>\n",
       "      <td>113270.000000</td>\n",
       "      <td>113270.000000</td>\n",
       "      <td>113270.000000</td>\n",
       "      <td>113270.000000</td>\n",
       "      <td>113270.000000</td>\n",
       "    </tr>\n",
       "    <tr>\n",
       "      <th>mean</th>\n",
       "      <td>2.931209</td>\n",
       "      <td>3.464006</td>\n",
       "      <td>21.105465</td>\n",
       "      <td>204.499537</td>\n",
       "      <td>1.967564</td>\n",
       "      <td>23.069382</td>\n",
       "    </tr>\n",
       "    <tr>\n",
       "      <th>std</th>\n",
       "      <td>1.375914</td>\n",
       "      <td>1.632198</td>\n",
       "      <td>22.959207</td>\n",
       "      <td>141.443090</td>\n",
       "      <td>1.355254</td>\n",
       "      <td>105.288561</td>\n",
       "    </tr>\n",
       "    <tr>\n",
       "      <th>min</th>\n",
       "      <td>0.000000</td>\n",
       "      <td>0.000000</td>\n",
       "      <td>0.000000</td>\n",
       "      <td>9.990000</td>\n",
       "      <td>1.000000</td>\n",
       "      <td>-3366.000000</td>\n",
       "    </tr>\n",
       "    <tr>\n",
       "      <th>25%</th>\n",
       "      <td>2.000000</td>\n",
       "      <td>2.000000</td>\n",
       "      <td>5.500000</td>\n",
       "      <td>119.980003</td>\n",
       "      <td>1.000000</td>\n",
       "      <td>7.200000</td>\n",
       "    </tr>\n",
       "    <tr>\n",
       "      <th>50%</th>\n",
       "      <td>4.000000</td>\n",
       "      <td>3.000000</td>\n",
       "      <td>14.400000</td>\n",
       "      <td>199.919998</td>\n",
       "      <td>1.000000</td>\n",
       "      <td>32.029999</td>\n",
       "    </tr>\n",
       "    <tr>\n",
       "      <th>75%</th>\n",
       "      <td>4.000000</td>\n",
       "      <td>5.000000</td>\n",
       "      <td>30.000000</td>\n",
       "      <td>299.950012</td>\n",
       "      <td>3.000000</td>\n",
       "      <td>65.570000</td>\n",
       "    </tr>\n",
       "    <tr>\n",
       "      <th>max</th>\n",
       "      <td>4.000000</td>\n",
       "      <td>6.000000</td>\n",
       "      <td>500.000000</td>\n",
       "      <td>1999.989990</td>\n",
       "      <td>5.000000</td>\n",
       "      <td>2600.000000</td>\n",
       "    </tr>\n",
       "  </tbody>\n",
       "</table>\n",
       "</div>"
      ],
      "text/plain": [
       "       days_for_shipment_scheduled  days_for_shipment_real  \\\n",
       "count                113270.000000           113270.000000   \n",
       "mean                      2.931209                3.464006   \n",
       "std                       1.375914                1.632198   \n",
       "min                       0.000000                0.000000   \n",
       "25%                       2.000000                2.000000   \n",
       "50%                       4.000000                3.000000   \n",
       "75%                       4.000000                5.000000   \n",
       "max                       4.000000                6.000000   \n",
       "\n",
       "       order_item_discount  sales_per_order  order_quantity  profit_per_order  \n",
       "count        113270.000000    113270.000000   113270.000000     113270.000000  \n",
       "mean             21.105465       204.499537        1.967564         23.069382  \n",
       "std              22.959207       141.443090        1.355254        105.288561  \n",
       "min               0.000000         9.990000        1.000000      -3366.000000  \n",
       "25%               5.500000       119.980003        1.000000          7.200000  \n",
       "50%              14.400000       199.919998        1.000000         32.029999  \n",
       "75%              30.000000       299.950012        3.000000         65.570000  \n",
       "max             500.000000      1999.989990        5.000000       2600.000000  "
      ]
     },
     "execution_count": 24,
     "metadata": {},
     "output_type": "execute_result"
    }
   ],
   "source": [
    "data.describe()"
   ]
  },
  {
   "cell_type": "code",
   "execution_count": 22,
   "id": "7c224e80",
   "metadata": {},
   "outputs": [
    {
     "name": "stdout",
     "output_type": "stream",
     "text": [
      "********** days_for_shipment_scheduled **********\n",
      "{0, 1, 2, 4}\n",
      "\n",
      "********** days_for_shipment_real **********\n",
      "{0, 1, 2, 3, 4, 5, 6}\n",
      "\n",
      "********** order_item_discount **********\n",
      "Number of Unique values: 1017\n",
      "\n",
      "********** sales_per_order **********\n",
      "Number of Unique values: 209\n",
      "\n",
      "********** order_quantity **********\n",
      "{1, 2, 3, 4, 5}\n",
      "\n",
      "********** profit_per_order **********\n",
      "Number of Unique values: 19140\n",
      "\n"
     ]
    }
   ],
   "source": [
    "for i in numerical_cols:\n",
    "    print('*'*10 + ' ' + i + ' ' + '*'*10)\n",
    "    values = set(data[i])\n",
    "    if len(values) > 50:\n",
    "        print('Number of Unique values:' , len(values))\n",
    "    else:\n",
    "        print(values)\n",
    "    print()"
   ]
  },
  {
   "cell_type": "markdown",
   "id": "1a5c4077",
   "metadata": {},
   "source": [
    "### Insights from Numerical Columns:\n",
    "\n",
    "- **`days_for_shipment_scheduled`** and **`days_for_shipment_real`**: Both columns have fewer than 5 unique values, suggesting they behave more like categorical variables. The values range from 0 to 4 (for scheduled) and 0 to 6 (for real), which may indicate predefined categories of shipment duration.\n",
    "  \n",
    "- **`order_item_discount`**: While there are 1,017 unique values, it has a wide range (from 0 to 500), with a significant concentration of values around 0 to 30. Since the values move above 100 we can consider the values represent the amount deducted from the price and does not represent the percentage\n",
    "\n",
    "- **`sales_per_order`**: Similar to order_item_discount, this column has 209 unique values. The mean sales per order is about 204, with some extreme values (up to 1999), showing variability in order sizes or product prices.\n",
    "\n",
    "- **`order_quantity`**: With values ranging from 1 to 5, this is a categorical-like variable, showing limited variation in the number of items per order.\n",
    "\n",
    "- **`profit_per_order`**: With 19,140 unique values, this column has a broad range of values from **negative to positive**. The negative values need closer inspection as they can represent be key indicators or can be errors introduced while data entry.\n",
    "\n",
    "* **Overall, while some numerical columns may seem continuous, they exhibit characteristics of categorical data.**\n",
    "* **Since the dataset lacks clear descriptions, we must infer the meaning of the columns based on the observed data**\n",
    "* **There are columns `profit_per_order` which needs further inspection.**\n",
    "* **The continuous columns might have outliers as observed from the difference in the 75th percentile and the maximum values of these columns**"
   ]
  },
  {
   "cell_type": "code",
   "execution_count": 36,
   "id": "b1521aef",
   "metadata": {
    "scrolled": true
   },
   "outputs": [
    {
     "data": {
      "text/plain": [
       "(21177, 4)"
      ]
     },
     "execution_count": 36,
     "metadata": {},
     "output_type": "execute_result"
    }
   ],
   "source": [
    "# looking at negative values in profit_per_order\n",
    "data[data['profit_per_order'] < 0][['order_item_discount', 'sales_per_order', 'order_quantity','profit_per_order']].shape"
   ]
  },
  {
   "cell_type": "markdown",
   "id": "aa2f1671",
   "metadata": {},
   "source": [
    "In the dataset, there are **21,177 rows with profit values less than 0**, indicating that these orders may represent losses, possibly due to reasons like:\n",
    "\n",
    "- Discounts or promotions leading to negative profit margins.\n",
    "- Shipping costs exceeding the sales price.\n",
    "- Mispricing or operational errors.\n",
    "\n",
    "Since we lack details about the product's cost price and selling price (which is often not provided by sellers), it is challenging to definitively interpret the cause of these negative profits. \n",
    "\n",
    "However, these losses are not uncommon in real-world e-commerce scenarios, where businesses may offer deep discounts, cover high shipping costs, or experience errors in pricing. \n",
    "\n",
    "For our analysis, we'll **acknowledge these negative profit values** but proceed with caution."
   ]
  },
  {
   "cell_type": "markdown",
   "id": "1db52bac",
   "metadata": {},
   "source": [
    "### Outlier detection"
   ]
  },
  {
   "cell_type": "code",
   "execution_count": 43,
   "id": "2971f164",
   "metadata": {},
   "outputs": [
    {
     "data": {
      "image/png": "[encoded data removed]",
      "text/plain": [
       "<Figure size 1500x800 with 6 Axes>"
      ]
     },
     "metadata": {},
     "output_type": "display_data"
    }
   ],
   "source": [
    "fig, ax = plt.subplots(2, 3, figsize=(15, 8))\n",
    "ax = ax.flatten()\n",
    "\n",
    "for i, col in enumerate(numerical_cols):\n",
    "    sns.boxplot(data=data[col], ax=ax[i])\n",
    "    ax[i].set_title(f'{col}')\n",
    "    ax[i].set_ylabel(\"\")\n",
    "\n",
    "fig.tight_layout()\n",
    "plt.show()"
   ]
  },
  {
   "cell_type": "markdown",
   "id": "ac51b647",
   "metadata": {},
   "source": [
    "**Explanation:**\n",
    "\n",
    "1. **`sales_per_order`:** The outliers here can indeed be attributed to high-priced items. As the maximum order quantity is only 5, bulk orders are unlikely to be the cause. Therefore, it is reasonable to assume that these outliers are the result of products with higher cost or value, which might be considered luxury items or large equipment.\n",
    "\n",
    "2. **`order_item_discount`:** High discounts could explain the presence of outliers, as discounts might be applied to special promotions, or seasonal sales. These can cause large deviations from the normal discount range. Again, without further details on pricing strategies, it's tough to fully explain the outliers, but it's a reasonable assumption.\n",
    "\n",
    "3. **`profit_per_order`:** The presence of negative or extreme values likely represents losses or items sold at a loss. However, without information on the actual cost and selling prices, it's difficult to assess the exact cause of these losses. It could be due to markdowns, poor pricing strategies, or other factors.\n",
    "\n",
    "**\"These outliers should be handled effectively to ensure unbiased results from the model. To mitigate their impact, appropriate transformations can be applied, reducing their influence on the model's performance.\"**\n"
   ]
  },
  {
   "cell_type": "markdown",
   "id": "8167598c",
   "metadata": {},
   "source": [
    "## Overview of Data Exploration\n",
    "\n",
    "* **Shape and Data Types**:  \n",
    "  The dataset has 113,270 entries and 21 columns. Among these, we have:\n",
    "  - 3 `float64` columns (for numerical data)\n",
    "  - 3 `int64` columns (for numerical data)\n",
    "  - 15 `object` columns (categorical data)\n",
    "  \n",
    "* **Null Values and Duplicates**:  \n",
    "  There are **no null values** in the dataset, ensuring completeness of the data. Additionally, **no duplicated records** were found.\n",
    "\n",
    "* **Categorical Data Observations**:\n",
    "  - Columns like `category_name`, `customer_segment`, `customer_country`, and `delivery_status` have relatively fewer unique values (e.g., 'Office Supplies', 'Consumer', 'Shipping on time').\n",
    "  - Customer IDs and Order IDs have a large number of unique values but do not contribute directly to predicting delivery delays or customer segmentation, so they were excluded from further analysis.\n",
    "  - Other columns like `customer_state` and `customer_city` have a diverse set of values, providing useful demographic data for customer segmentation.\n",
    "\n",
    "* **Numerical Data Observations**:\n",
    "  - We have numerical columns such as `days_for_shipment_scheduled`, `days_for_shipment_real`, `order_item_discount`, `sales_per_order`, `order_quantity`, and `profit_per_order`.\n",
    "  - Interestingly, three of these columns (`days_for_shipment_scheduled`, `days_for_shipment_real`, and `order_quantity`) show a categorical-like nature due to having fewer unique values (e.g., values like 1, 2, 3 for `order_quantity`).\n",
    "  - Columns like `sales_per_order` and `profit_per_order` exhibit significant outliers. These outliers are mostly linked to high-priced items or large discounts, which are not typical in most orders. However, the lack of detailed product pricing information complicates precise interpretation.\n",
    "  \n",
    "* **Outliers**:\n",
    "  - **`sales_per_order`** shows outliers that likely represent high-priced items. The presence of bulk orders is minimized due to the `order_quantity` column, which has a maximum value of 5, reinforcing the idea that these outliers are due to high-value items rather than bulk purchases.\n",
    "  - **`order_item_discount`** and **`profit_per_order`** contain outliers, particularly in the higher range. These could be explained by significant discounts or losses, but without additional cost information, it's challenging to draw exact conclusions.\n",
    "\n",
    "* **Irregularities**:\n",
    "  - The presence of negative profit values (losses) adds complexity, as it’s difficult to confirm their validity due to the lack of cost and pricing information."
   ]
  },
  {
   "cell_type": "code",
   "execution_count": null,
   "id": "2e6ddfd9",
   "metadata": {},
   "outputs": [],
   "source": []
  },
  {
   "cell_type": "code",
   "execution_count": null,
   "id": "aa9f6a28",
   "metadata": {},
   "outputs": [],
   "source": []
  },
  {
   "cell_type": "code",
   "execution_count": null,
   "id": "5efe6c78",
   "metadata": {},
   "outputs": [],
   "source": []
  },
  {
   "cell_type": "code",
   "execution_count": null,
   "id": "820317a5",
   "metadata": {},
   "outputs": [],
   "source": []
  },
  {
   "cell_type": "code",
   "execution_count": null,
   "id": "407ae949",
   "metadata": {},
   "outputs": [],
   "source": []
  },
  {
   "cell_type": "code",
   "execution_count": null,
   "id": "56f9de89",
   "metadata": {},
   "outputs": [],
   "source": []
  },
  {
   "cell_type": "code",
   "execution_count": null,
   "id": "25397ecf",
   "metadata": {},
   "outputs": [],
   "source": []
  },
  {
   "cell_type": "code",
   "execution_count": null,
   "id": "cdeec607",
   "metadata": {},
   "outputs": [],
   "source": []
  },
  {
   "cell_type": "code",
   "execution_count": null,
   "id": "14d6634a",
   "metadata": {},
   "outputs": [],
   "source": []
  }
 ],
 "metadata": {
  "kernelspec": {
   "display_name": "Python 3 (ipykernel)",
   "language": "python",
   "name": "python3"
  },
  "language_info": {
   "codemirror_mode": {
    "name": "ipython",
    "version": 3
   },
   "file_extension": ".py",
   "mimetype": "text/x-python",
   "name": "python",
   "nbconvert_exporter": "python",
   "pygments_lexer": "ipython3",
   "version": "3.11.7"
  }
 },
 "nbformat": 4,
 "nbformat_minor": 5
}
